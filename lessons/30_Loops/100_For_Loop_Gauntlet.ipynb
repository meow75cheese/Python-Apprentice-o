{
  "cells": [
    {
      "cell_type": "markdown",
      "id": "539e9340",
      "metadata": {},
      "source": [
        "# For Loop Gauntlet\n",
        "\n",
        "The goal of this assignment is to make you a master of utilizing for loops.\n",
        "Complete all the for loop challenges on the paper. please read each challenge\n",
        "carefully and make sure that your for loops display exactly what is asked. If\n",
        "you finish them all, try the bonus challenge.\n",
        "\n",
        "## Single for-loops\n",
        "\n",
        "Write a for loop to do each the following\n"
      ]
    },
    {
      "cell_type": "markdown",
      "id": "d0b568dc",
      "metadata": {
        "lines_to_next_cell": 0
      },
      "source": [
        "Display all numbers from 0 to 100  "
      ]
    },
    {
      "cell_type": "code",
      "execution_count": 2,
      "id": "d0752dd4",
      "metadata": {
        "title": "[python]"
      },
      "outputs": [
        {
          "name": "stdout",
          "output_type": "stream",
          "text": [
            "0\n",
            "1\n",
            "2\n",
            "3\n",
            "4\n",
            "5\n",
            "6\n",
            "7\n",
            "8\n",
            "9\n",
            "10\n",
            "11\n",
            "12\n",
            "13\n",
            "14\n",
            "15\n",
            "16\n",
            "17\n",
            "18\n",
            "19\n",
            "20\n",
            "21\n",
            "22\n",
            "23\n",
            "24\n",
            "25\n",
            "26\n",
            "27\n",
            "28\n",
            "29\n",
            "30\n",
            "31\n",
            "32\n",
            "33\n",
            "34\n",
            "35\n",
            "36\n",
            "37\n",
            "38\n",
            "39\n",
            "40\n",
            "41\n",
            "42\n",
            "43\n",
            "44\n",
            "45\n",
            "46\n",
            "47\n",
            "48\n",
            "49\n",
            "50\n",
            "51\n",
            "52\n",
            "53\n",
            "54\n",
            "55\n",
            "56\n",
            "57\n",
            "58\n",
            "59\n",
            "60\n",
            "61\n",
            "62\n",
            "63\n",
            "64\n",
            "65\n",
            "66\n",
            "67\n",
            "68\n",
            "69\n",
            "70\n",
            "71\n",
            "72\n",
            "73\n",
            "74\n",
            "75\n",
            "76\n",
            "77\n",
            "78\n",
            "79\n",
            "80\n",
            "81\n",
            "82\n",
            "83\n",
            "84\n",
            "85\n",
            "86\n",
            "87\n",
            "88\n",
            "89\n",
            "90\n",
            "91\n",
            "92\n",
            "93\n",
            "94\n",
            "95\n",
            "96\n",
            "97\n",
            "98\n",
            "99\n",
            "100\n"
          ]
        }
      ],
      "source": [
        "# Display all numbers from 0 to 100 \n",
        "\n",
        "for i in range(101):\n",
        "    print(i)"
      ]
    },
    {
      "cell_type": "markdown",
      "id": "8b92e611",
      "metadata": {
        "lines_to_next_cell": 0
      },
      "source": [
        "Display all numbers from 100 to 0  "
      ]
    },
    {
      "cell_type": "code",
      "execution_count": 14,
      "id": "aec8cf23",
      "metadata": {
        "title": "[python]"
      },
      "outputs": [
        {
          "name": "stdout",
          "output_type": "stream",
          "text": [
            "100\n",
            "99\n",
            "98\n",
            "97\n",
            "96\n",
            "95\n",
            "94\n",
            "93\n",
            "92\n",
            "91\n",
            "90\n",
            "89\n",
            "88\n",
            "87\n",
            "86\n",
            "85\n",
            "84\n",
            "83\n",
            "82\n",
            "81\n",
            "80\n",
            "79\n",
            "78\n",
            "77\n",
            "76\n",
            "75\n",
            "74\n",
            "73\n",
            "72\n",
            "71\n",
            "70\n",
            "69\n",
            "68\n",
            "67\n",
            "66\n",
            "65\n",
            "64\n",
            "63\n",
            "62\n",
            "61\n",
            "60\n",
            "59\n",
            "58\n",
            "57\n",
            "56\n",
            "55\n",
            "54\n",
            "53\n",
            "52\n",
            "51\n",
            "50\n",
            "49\n",
            "48\n",
            "47\n",
            "46\n",
            "45\n",
            "44\n",
            "43\n",
            "42\n",
            "41\n",
            "40\n",
            "39\n",
            "38\n",
            "37\n",
            "36\n",
            "35\n",
            "34\n",
            "33\n",
            "32\n",
            "31\n",
            "30\n",
            "29\n",
            "28\n",
            "27\n",
            "26\n",
            "25\n",
            "24\n",
            "23\n",
            "22\n",
            "21\n",
            "20\n",
            "19\n",
            "18\n",
            "17\n",
            "16\n",
            "15\n",
            "14\n",
            "13\n",
            "12\n",
            "11\n",
            "10\n",
            "9\n",
            "8\n",
            "7\n",
            "6\n",
            "5\n",
            "4\n",
            "3\n",
            "2\n",
            "1\n",
            "0\n"
          ]
        }
      ],
      "source": [
        "# Display all numbers from 100 to 0 \n",
        "\n",
        "for i in range(100,-1,-1):\n",
        "    print(i)\n"
      ]
    },
    {
      "cell_type": "markdown",
      "id": "8942605e",
      "metadata": {
        "lines_to_next_cell": 0
      },
      "source": [
        "Display all even numbers from 2 to 100  "
      ]
    },
    {
      "cell_type": "code",
      "execution_count": 15,
      "id": "ed3d8616",
      "metadata": {
        "lines_to_next_cell": 0,
        "title": "[python]"
      },
      "outputs": [
        {
          "name": "stdout",
          "output_type": "stream",
          "text": [
            "2\n",
            "4\n",
            "6\n",
            "8\n",
            "10\n",
            "12\n",
            "14\n",
            "16\n",
            "18\n",
            "20\n",
            "22\n",
            "24\n",
            "26\n",
            "28\n",
            "30\n",
            "32\n",
            "34\n",
            "36\n",
            "38\n",
            "40\n",
            "42\n",
            "44\n",
            "46\n",
            "48\n",
            "50\n",
            "52\n",
            "54\n",
            "56\n",
            "58\n",
            "60\n",
            "62\n",
            "64\n",
            "66\n",
            "68\n",
            "70\n",
            "72\n",
            "74\n",
            "76\n",
            "78\n",
            "80\n",
            "82\n",
            "84\n",
            "86\n",
            "88\n",
            "90\n",
            "92\n",
            "94\n",
            "96\n",
            "98\n",
            "100\n"
          ]
        }
      ],
      "source": [
        "# Display all even numbers from 2 to 100  \n",
        "for i in range(2,101,2):\n",
        "    print(i)\n"
      ]
    },
    {
      "cell_type": "markdown",
      "id": "c3501380",
      "metadata": {
        "lines_to_next_cell": 0
      },
      "source": [
        "Display all odd numbers from 1 to 99  "
      ]
    },
    {
      "cell_type": "code",
      "execution_count": 16,
      "id": "038f48bf",
      "metadata": {
        "lines_to_next_cell": 0,
        "title": "[python]"
      },
      "outputs": [
        {
          "name": "stdout",
          "output_type": "stream",
          "text": [
            "1\n",
            "3\n",
            "5\n",
            "7\n",
            "9\n",
            "11\n",
            "13\n",
            "15\n",
            "17\n",
            "19\n",
            "21\n",
            "23\n",
            "25\n",
            "27\n",
            "29\n",
            "31\n",
            "33\n",
            "35\n",
            "37\n",
            "39\n",
            "41\n",
            "43\n",
            "45\n",
            "47\n",
            "49\n",
            "51\n",
            "53\n",
            "55\n",
            "57\n",
            "59\n",
            "61\n",
            "63\n",
            "65\n",
            "67\n",
            "69\n",
            "71\n",
            "73\n",
            "75\n",
            "77\n",
            "79\n",
            "81\n",
            "83\n",
            "85\n",
            "87\n",
            "89\n",
            "91\n",
            "93\n",
            "95\n",
            "97\n",
            "99\n"
          ]
        }
      ],
      "source": [
        "# Display all odd numbers from 1 to 99  \n",
        "for i in range(1,100,2):\n",
        "    print(i)"
      ]
    },
    {
      "cell_type": "markdown",
      "id": "f750c8e2",
      "metadata": {
        "lines_to_next_cell": 0
      },
      "source": [
        "Display all numbers from 1 to 40. if the number is odd, print \"odd\" next to the number. if the number is even, print \"even\" next to the number.  \n",
        "eg:  \n",
        " 1 is odd  \n",
        " 2 is even  \n",
        " 3 is odd  \n",
        " 4 is even  \n",
        " 5 is odd...etc.  \n",
        "\n"
      ]
    },
    {
      "cell_type": "code",
      "execution_count": 18,
      "id": "174bdcd9",
      "metadata": {},
      "outputs": [
        {
          "name": "stdout",
          "output_type": "stream",
          "text": [
            "1 odd\n",
            "2 even\n",
            "3 odd\n",
            "4 even\n",
            "5 odd\n",
            "6 even\n",
            "7 odd\n",
            "8 even\n",
            "9 odd\n",
            "10 even\n",
            "11 odd\n",
            "12 even\n",
            "13 odd\n",
            "14 even\n",
            "15 odd\n",
            "16 even\n",
            "17 odd\n",
            "18 even\n",
            "19 odd\n",
            "20 even\n",
            "21 odd\n",
            "22 even\n",
            "23 odd\n",
            "24 even\n",
            "25 odd\n",
            "26 even\n",
            "27 odd\n",
            "28 even\n",
            "29 odd\n",
            "30 even\n",
            "31 odd\n",
            "32 even\n",
            "33 odd\n",
            "34 even\n",
            "35 odd\n",
            "36 even\n",
            "37 odd\n",
            "38 even\n",
            "39 odd\n",
            "40 even\n"
          ]
        }
      ],
      "source": [
        "# Display all numbers from 1 to 500.\n",
        "for i in range(1,41):\n",
        "    if i % 2 == 0:\n",
        "        print(str(i) + ' even')\n",
        "    else:\n",
        "        print(str(i) + ' odd')"
      ]
    },
    {
      "cell_type": "markdown",
      "id": "969e00f1",
      "metadata": {},
      "source": [
        "Display all multiples of 7 from 0 to 70"
      ]
    },
    {
      "cell_type": "code",
      "execution_count": 20,
      "id": "620b3886",
      "metadata": {
        "lines_to_next_cell": 0,
        "title": "[python]"
      },
      "outputs": [
        {
          "name": "stdout",
          "output_type": "stream",
          "text": [
            "7\n",
            "14\n",
            "21\n",
            "28\n",
            "35\n",
            "42\n",
            "49\n",
            "56\n",
            "63\n",
            "70\n",
            "77\n",
            "84\n",
            "91\n",
            "98\n",
            "105\n",
            "112\n",
            "119\n",
            "126\n",
            "133\n",
            "140\n",
            "147\n",
            "154\n",
            "161\n",
            "168\n",
            "175\n",
            "182\n",
            "189\n",
            "196\n",
            "203\n",
            "210\n",
            "217\n",
            "224\n",
            "231\n",
            "238\n",
            "245\n",
            "252\n",
            "259\n",
            "266\n",
            "273\n",
            "280\n",
            "287\n",
            "294\n",
            "301\n",
            "308\n",
            "315\n",
            "322\n",
            "329\n",
            "336\n",
            "343\n",
            "350\n",
            "357\n",
            "364\n",
            "371\n",
            "378\n",
            "385\n",
            "392\n",
            "399\n",
            "406\n",
            "413\n",
            "420\n",
            "427\n",
            "434\n",
            "441\n",
            "448\n",
            "455\n",
            "462\n",
            "469\n",
            "476\n",
            "483\n",
            "490\n",
            "497\n",
            "504\n",
            "511\n",
            "518\n",
            "525\n",
            "532\n",
            "539\n",
            "546\n",
            "553\n",
            "560\n",
            "567\n",
            "574\n",
            "581\n",
            "588\n",
            "595\n",
            "602\n",
            "609\n",
            "616\n",
            "623\n",
            "630\n",
            "637\n",
            "644\n",
            "651\n",
            "658\n",
            "665\n",
            "672\n",
            "679\n",
            "686\n",
            "693\n",
            "700\n",
            "707\n",
            "714\n",
            "721\n",
            "728\n",
            "735\n",
            "742\n",
            "749\n",
            "756\n",
            "763\n",
            "770\n",
            "777\n"
          ]
        }
      ],
      "source": [
        "# Display all multiples of 7 from 0 to 777\n",
        "\n",
        "for i in range(7,778,7):\n",
        "    print(i)"
      ]
    },
    {
      "cell_type": "markdown",
      "id": "b468e701",
      "metadata": {
        "lines_to_next_cell": 0
      },
      "source": [
        "Print all the years you were alive and how old you were in each. e.g. \"in 1979, i was 2 years old.\" (for a really old person)  "
      ]
    },
    {
      "cell_type": "code",
      "execution_count": 25,
      "id": "6db862fd",
      "metadata": {
        "lines_to_next_cell": 0,
        "title": "[python]"
      },
      "outputs": [
        {
          "name": "stdout",
          "output_type": "stream",
          "text": [
            "in 2012, i was 0 years old.\n",
            "in 2013, i was 1 years old.\n",
            "in 2014, i was 2 years old.\n",
            "in 2015, i was 3 years old.\n",
            "in 2016, i was 4 years old.\n",
            "in 2017, i was 5 years old.\n",
            "in 2018, i was 6 or 7 years old.\n",
            "in 2019, i was 6 or 7 years old.\n",
            "in 2020, i was 8 years old.\n",
            "in 2021, i was 9 years old.\n",
            "in 2022, i was 10 years old.\n",
            "in 2023, i was 11 years old.\n",
            "in 2024, i was 12 years old.\n",
            "in 2025, i was 13 years old.\n"
          ]
        }
      ],
      "source": [
        "# Your Code Here\n",
        "for i in range(2012,2026):\n",
        "    age = i - 2012\n",
        "    if age == 6 or age == 7:\n",
        "        age = '6 or 7'\n",
        "    print('in ' + str(i) + ', i was ' + str(age) + ' years old.')"
      ]
    },
    {
      "cell_type": "markdown",
      "id": "571b7e8d",
      "metadata": {
        "lines_to_next_cell": 0
      },
      "source": [
        "## Nested for-loops\n",
        "\n",
        "Write nested for loops (a for loop inside another for loop). Here is an example of nested loops. "
      ]
    },
    {
      "cell_type": "code",
      "execution_count": 26,
      "id": "beb062f6",
      "metadata": {
        "lines_to_next_cell": 0,
        "title": "[python]"
      },
      "outputs": [
        {
          "name": "stdout",
          "output_type": "stream",
          "text": [
            "(0,0) (0,1) (0,2) (0,3) (0,4) (0,5) (0,6) (0,7) \n",
            "(1,0) (1,1) (1,2) (1,3) (1,4) (1,5) (1,6) (1,7) \n",
            "(2,0) (2,1) (2,2) (2,3) (2,4) (2,5) (2,6) (2,7) \n",
            "(3,0) (3,1) (3,2) (3,3) (3,4) (3,5) (3,6) (3,7) \n",
            "(4,0) (4,1) (4,2) (4,3) (4,4) (4,5) (4,6) (4,7) \n",
            "(5,0) (5,1) (5,2) (5,3) (5,4) (5,5) (5,6) (5,7) \n",
            "(6,0) (6,1) (6,2) (6,3) (6,4) (6,5) (6,6) (6,7) \n",
            "(7,0) (7,1) (7,2) (7,3) (7,4) (7,5) (7,6) (7,7) \n"
          ]
        }
      ],
      "source": [
        "# Examples of Nested Loops\n",
        "\n",
        "for i in range(8):\n",
        "    for j in range(8):\n",
        "        print(f\"({i},{j})\", end= ' ')\n",
        "    print()"
      ]
    },
    {
      "cell_type": "markdown",
      "id": "3605a476",
      "metadata": {
        "lines_to_next_cell": 0
      },
      "source": [
        "For your first nested loop, display this output:  \n",
        "\n",
        "```\n",
        "0  0  \n",
        "0  1  \n",
        "0  2  \n",
        "1  0  \n",
        "1  1  \n",
        "1  2  \n",
        "2  0  \n",
        "2  1  \n",
        "2  2\n",
        "```"
      ]
    },
    {
      "cell_type": "code",
      "execution_count": 30,
      "id": "8c847ed3",
      "metadata": {
        "lines_to_next_cell": 0,
        "title": "[python]"
      },
      "outputs": [
        {
          "name": "stdout",
          "output_type": "stream",
          "text": [
            "0  0\n",
            "0  1\n",
            "0  2\n",
            "1  0\n",
            "1  1\n",
            "1  2\n",
            "2  0\n",
            "2  1\n",
            "2  2\n"
          ]
        }
      ],
      "source": [
        "# Display the output shown above\n",
        "\n",
        "for i in range(3):\n",
        "    for j in range(3):\n",
        "        print(str(i) + '  ' + str(j))"
      ]
    },
    {
      "cell_type": "markdown",
      "id": "c6a9c592",
      "metadata": {
        "lines_to_next_cell": 0
      },
      "source": [
        "Display the numbers 1 through 9 in a 3x3 square grid like this:  \n",
        "\n",
        "```\n",
        "1  2  3  \n",
        "4  5  6  \n",
        "7  8  9  \n",
        "```"
      ]
    },
    {
      "cell_type": "code",
      "execution_count": 39,
      "id": "bb0a4a5b",
      "metadata": {
        "lines_to_next_cell": 0,
        "title": "[python]"
      },
      "outputs": [
        {
          "name": "stdout",
          "output_type": "stream",
          "text": [
            "1  2  3\n",
            "4  5  6\n",
            "7  8  9\n"
          ]
        }
      ],
      "source": [
        "# Display the numbers 1 through 9 in a 3x3 square grid\n",
        "\n",
        "for i in range(1,8,3):\n",
        "    list = []\n",
        "    for j in range(3):\n",
        "        variable = i+j\n",
        "        list.append(str(variable))\n",
        "    print(list[0] + '  ' + list[1] + '  ' + list[2])\n"
      ]
    },
    {
      "cell_type": "markdown",
      "id": "3265fddb",
      "metadata": {
        "lines_to_next_cell": 0
      },
      "source": [
        "Display the numbers 1 through 100 in a 10x10 square grid.  "
      ]
    },
    {
      "cell_type": "code",
      "execution_count": 45,
      "id": "ced82638",
      "metadata": {
        "lines_to_next_cell": 0,
        "title": "[python]"
      },
      "outputs": [
        {
          "name": "stdout",
          "output_type": "stream",
          "text": [
            "1\t2\t3\t4\t5\t6\t7\t8\t9\t10\n",
            "11\t12\t13\t14\t15\t16\t17\t18\t19\t20\n",
            "21\t22\t23\t24\t25\t26\t27\t28\t29\t30\n",
            "31\t32\t33\t34\t35\t36\t37\t38\t39\t40\n",
            "41\t42\t43\t44\t45\t46\t47\t48\t49\t50\n",
            "51\t52\t53\t54\t55\t56\t57\t58\t59\t60\n",
            "61\t62\t63\t64\t65\t66\t67\t68\t69\t70\n",
            "71\t72\t73\t74\t75\t76\t77\t78\t79\t80\n",
            "81\t82\t83\t84\t85\t86\t87\t88\t89\t90\n",
            "91\t92\t93\t94\t95\t96\t97\t98\t99\t100\n"
          ]
        }
      ],
      "source": [
        "# Display the numbers 1 through 100 in a 10x10 square grid. \n",
        "\n",
        "meow = '\\t'\n",
        "for i in range(1,99,10):\n",
        "    list = []\n",
        "    for j in range(10):\n",
        "        variable = i+j\n",
        "        list.append(str(variable))\n",
        "    print(list[0] + meow + list[1] + meow + list[2] + meow + list[3] + meow + list[4] + meow + list[5] + meow + list[6] + meow + list[7] + meow + list[8] + meow + list[9])\n"
      ]
    },
    {
      "cell_type": "markdown",
      "id": "9434b500",
      "metadata": {
        "lines_to_next_cell": 2
      },
      "source": [
        "Display the following output:  \n",
        "\n",
        "```\n",
        "*  \n",
        "*  *  \n",
        "*  *  *  \n",
        "*  *  *  *  \n",
        "*  *  *  *  *  \n",
        "*  *  *  *  *  *\n",
        "```  "
      ]
    },
    {
      "cell_type": "code",
      "execution_count": 52,
      "id": "3b81fd1e",
      "metadata": {},
      "outputs": [
        {
          "name": "stdout",
          "output_type": "stream",
          "text": [
            "['*']\n",
            "['*', '*']\n",
            "['*', '*', '*']\n",
            "['*', '*', '*', '*']\n",
            "['*', '*', '*', '*', '*']\n",
            "['*', '*', '*', '*', '*', '*']\n"
          ]
        }
      ],
      "source": [
        "# Display the asterisk pattern shown above\n",
        "for i in range(1,7):\n",
        "    astrsk = []\n",
        "    for j in range(i):\n",
        "        astrsk.append('*')\n",
        "    print(astrsk)\n"
      ]
    },
    {
      "cell_type": "markdown",
      "id": "5a40192d",
      "metadata": {},
      "source": []
    }
  ],
  "metadata": {
    "jupytext": {
      "cell_metadata_filter": "title,-all",
      "main_language": "python",
      "notebook_metadata_filter": "-all"
    },
    "kernelspec": {
      "display_name": "Python 3",
      "language": "python",
      "name": "python3"
    },
    "language_info": {
      "codemirror_mode": {
        "name": "ipython",
        "version": 3
      },
      "file_extension": ".py",
      "mimetype": "text/x-python",
      "name": "python",
      "nbconvert_exporter": "python",
      "pygments_lexer": "ipython3",
      "version": "3.12.11"
    },
    "syllabus": {
      "uid": "8yGSkBgV"
    }
  },
  "nbformat": 4,
  "nbformat_minor": 5
}
