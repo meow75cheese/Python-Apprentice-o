{
  "cells": [
    {
      "cell_type": "code",
      "execution_count": 3,
      "metadata": {},
      "outputs": [],
      "source": [
        "\"\"\"\n",
        "Programmable turtle graphics\n",
        "\n",
        "Use what you've learned about lists, loop, cycle, slice and zip to draw a pattern\n",
        "\n",
        "\"\"\"\n",
        "import turtle\n",
        "from turtle import Turtle\n",
        "\n",
        "\n",
        "t = turtle.Turtle() # Create a turtle like in previous programs, like 04_Crazy_Tina.py\n",
        "\n",
        "colors = ['blue', 'purple', 'red'] # Make a list of colors\n",
        "\n",
        "directions = [ # Create a list of directions and angles\n",
        "    ( 90, 21 ),\n",
        "    ( 30, 55 ),\n",
        "    ( 180, 8 )\n",
        "]\n",
        "\n",
        "# Zip the colors and directions together, then unpack them. THere is a good example of this\n",
        "# in 10_More_iterables.ipynb in the discussion of zip()\n",
        "\n",
        "for color, (angle, distance) in zip(colors, directions):\n",
        "    t.color( color )\n",
        "    t.forward( distance )\n",
        "    t.left( angle )\n",
        "\n",
        "\n",
        "# Don't forget the special way to end a turtle program. \n",
        "turtle.exitonclick()"
      ]
    }
  ],
  "metadata": {
    "kernelspec": {
      "display_name": "Python 3",
      "language": "python",
      "name": "python3"
    },
    "language_info": {
      "codemirror_mode": {
        "name": "ipython",
        "version": 3
      },
      "file_extension": ".py",
      "mimetype": "text/x-python",
      "name": "python",
      "nbconvert_exporter": "python",
      "pygments_lexer": "ipython3",
      "version": "3.12.11"
    },
    "syllabus": {
      "uid": "vTyp2WhX"
    }
  },
  "nbformat": 4,
  "nbformat_minor": 2
}
